{
 "cells": [
  {
   "cell_type": "heading",
   "metadata": {},
   "level": 1,
   "source": []
  },
  {
   "cell_type": "code",
   "execution_count": 4,
   "metadata": {
    "collapsed": true
   },
   "outputs": [],
   "source": [
    "import matplotlib\n",
    "from pylab import *"
   ]
  },
  {
   "cell_type": "code",
   "execution_count": 5,
   "metadata": {},
   "outputs": [],
   "source": [
    "x = linspace(0, 5, 10)\n",
    "y = x ** 2"
   ]
  },
  {
   "cell_type": "code",
   "execution_count": 6,
   "metadata": {},
   "outputs": [
    {
     "data": {
      "image/png": "[encoded data removed]",
      "text/plain": [
       "<matplotlib.figure.Figure at 0x97c6647588>"
      ]
     },
     "metadata": {},
     "output_type": "display_data"
    },
    {
     "data": {
      "text/plain": [
       "\"\\n    Transform strings into instances of :class:`Symbol` class.\\n\\n    :func:`symbols` function returns a sequence of symbols with names taken\\n    from ``names`` argument, which can be a comma or whitespace delimited\\n    string, or a sequence of strings::\\n\\n        >>> from sympy import symbols, Function\\n\\n        >>> x, y, z = symbols('x,y,z')\\n        >>> a, b, c = symbols('a b c')\\n\\n    The type of output is dependent on the properties of input arguments::\\n\\n        >>> symbols('x')\\n        x\\n        >>> symbols('x,')\\n        (x,)\\n        >>> symbols('x,y')\\n        (x, y)\\n        >>> symbols(('a', 'b', 'c'))\\n        (a, b, c)\\n        >>> symbols(['a', 'b', 'c'])\\n        [a, b, c]\\n        >>> symbols({'a', 'b', 'c'})\\n        {a, b, c}\\n\\n    If an iterable container is needed for a single symbol, set the ``seq``\\n    argument to ``True`` or terminate the symbol name with a comma::\\n\\n        >>> symbols('x', seq=True)\\n        (x,)\\n\\n    To reduce typing, range syntax is supported to create indexed symbols.\\n    Ranges are indicated by a colon and the type of range is determined by\\n    the character to the right of the colon. If the character is a digit\\n    then all contiguous digits to the left are taken as the nonnegative\\n    starting value (or 0 if there is no digit left of the colon) and all\\n    contiguous digits to the right are taken as 1 greater than the ending\\n    value::\\n\\n        >>> symbols('x:10')\\n        (x0, x1, x2, x3, x4, x5, x6, x7, x8, x9)\\n\\n        >>> symbols('x5:10')\\n        (x5, x6, x7, x8, x9)\\n        >>> symbols('x5(:2)')\\n        (x50, x51)\\n\\n        >>> symbols('x5:10,y:5')\\n        (x5, x6, x7, x8, x9, y0, y1, y2, y3, y4)\\n\\n        >>> symbols(('x5:10', 'y:5'))\\n        ((x5, x6, x7, x8, x9), (y0, y1, y2, y3, y4))\\n\\n    If the character to the right of the colon is a letter, then the single\\n    letter to the left (or 'a' if there is none) is taken as the start\\n    and all characters in the lexicographic range *through* the letter to\\n    the right are used as the range::\\n\\n        >>> symbols('x:z')\\n        (x, y, z)\\n        >>> symbols('x:c')  # null range\\n        ()\\n        >>> symbols('x(:c)')\\n        (xa, xb, xc)\\n\\n        >>> symbols(':c')\\n        (a, b, c)\\n\\n        >>> symbols('a:d, x:z')\\n        (a, b, c, d, x, y, z)\\n\\n        >>> symbols(('a:d', 'x:z'))\\n        ((a, b, c, d), (x, y, z))\\n\\n    Multiple ranges are supported; contiguous numerical ranges should be\\n    separated by parentheses to disambiguate the ending number of one\\n    range from the starting number of the next::\\n\\n        >>> symbols('x:2(1:3)')\\n        (x01, x02, x11, x12)\\n        >>> symbols(':3:2')  # parsing is from left to right\\n        (00, 01, 10, 11, 20, 21)\\n\\n    Only one pair of parentheses surrounding ranges are removed, so to\\n    include parentheses around ranges, double them. And to include spaces,\\n    commas, or colons, escape them with a backslash::\\n\\n        >>> symbols('x((a:b))')\\n        (x(a), x(b))\\n        >>> symbols(r'x(:1\\\\,:2)')  # or r'x((:1)\\\\,(:2))'\\n        (x(0,0), x(0,1))\\n\\n    All newly created symbols have assumptions set according to ``args``::\\n\\n        >>> a = symbols('a', integer=True)\\n        >>> a.is_integer\\n        True\\n\\n        >>> x, y, z = symbols('x,y,z', real=True)\\n        >>> x.is_real and y.is_real and z.is_real\\n        True\\n\\n    Despite its name, :func:`symbols` can create symbol-like objects like\\n    instances of Function or Wild classes. To achieve this, set ``cls``\\n    keyword argument to the desired type::\\n\\n        >>> symbols('f,g,h', cls=Function)\\n        (f, g, h)\\n\\n        >>> type(_[0])\\n        <class 'sympy.core.function.UndefinedFunction'>\\n\\n    \""
      ]
     },
     "execution_count": 8,
     "metadata": {},
     "output_type": "execute_result"
    }
   ],
   "source": [
    "figure()\n",
    "plot(x, y, 'r')\n",
    "xlabel('x')\n"
   ]
  },
  {
   "cell_type": "code",
   "execution_count": 7,
   "metadata": {},
   "outputs": [],
   "source": []
  },
  {
   "cell_type": "code",
   "execution_count": 8,
   "metadata": {},
   "outputs": [
    {
     "data": {
      "image/png": "[encoded data removed]",
      "text/plain": [
       "<matplotlib.figure.Figure at 0x97c6647588>"
      ]
     },
     "metadata": {},
     "output_type": "display_data"
    },
    {
     "data": {
      "text/plain": [
       "\"\\n    Transform strings into instances of :class:`Symbol` class.\\n\\n    :func:`symbols` function returns a sequence of symbols with names taken\\n    from ``names`` argument, which can be a comma or whitespace delimited\\n    string, or a sequence of strings::\\n\\n        >>> from sympy import symbols, Function\\n\\n        >>> x, y, z = symbols('x,y,z')\\n        >>> a, b, c = symbols('a b c')\\n\\n    The type of output is dependent on the properties of input arguments::\\n\\n        >>> symbols('x')\\n        x\\n        >>> symbols('x,')\\n        (x,)\\n        >>> symbols('x,y')\\n        (x, y)\\n        >>> symbols(('a', 'b', 'c'))\\n        (a, b, c)\\n        >>> symbols(['a', 'b', 'c'])\\n        [a, b, c]\\n        >>> symbols({'a', 'b', 'c'})\\n        {a, b, c}\\n\\n    If an iterable container is needed for a single symbol, set the ``seq``\\n    argument to ``True`` or terminate the symbol name with a comma::\\n\\n        >>> symbols('x', seq=True)\\n        (x,)\\n\\n    To reduce typing, range syntax is supported to create indexed symbols.\\n    Ranges are indicated by a colon and the type of range is determined by\\n    the character to the right of the colon. If the character is a digit\\n    then all contiguous digits to the left are taken as the nonnegative\\n    starting value (or 0 if there is no digit left of the colon) and all\\n    contiguous digits to the right are taken as 1 greater than the ending\\n    value::\\n\\n        >>> symbols('x:10')\\n        (x0, x1, x2, x3, x4, x5, x6, x7, x8, x9)\\n\\n        >>> symbols('x5:10')\\n        (x5, x6, x7, x8, x9)\\n        >>> symbols('x5(:2)')\\n        (x50, x51)\\n\\n        >>> symbols('x5:10,y:5')\\n        (x5, x6, x7, x8, x9, y0, y1, y2, y3, y4)\\n\\n        >>> symbols(('x5:10', 'y:5'))\\n        ((x5, x6, x7, x8, x9), (y0, y1, y2, y3, y4))\\n\\n    If the character to the right of the colon is a letter, then the single\\n    letter to the left (or 'a' if there is none) is taken as the start\\n    and all characters in the lexicographic range *through* the letter to\\n    the right are used as the range::\\n\\n        >>> symbols('x:z')\\n        (x, y, z)\\n        >>> symbols('x:c')  # null range\\n        ()\\n        >>> symbols('x(:c)')\\n        (xa, xb, xc)\\n\\n        >>> symbols(':c')\\n        (a, b, c)\\n\\n        >>> symbols('a:d, x:z')\\n        (a, b, c, d, x, y, z)\\n\\n        >>> symbols(('a:d', 'x:z'))\\n        ((a, b, c, d), (x, y, z))\\n\\n    Multiple ranges are supported; contiguous numerical ranges should be\\n    separated by parentheses to disambiguate the ending number of one\\n    range from the starting number of the next::\\n\\n        >>> symbols('x:2(1:3)')\\n        (x01, x02, x11, x12)\\n        >>> symbols(':3:2')  # parsing is from left to right\\n        (00, 01, 10, 11, 20, 21)\\n\\n    Only one pair of parentheses surrounding ranges are removed, so to\\n    include parentheses around ranges, double them. And to include spaces,\\n    commas, or colons, escape them with a backslash::\\n\\n        >>> symbols('x((a:b))')\\n        (x(a), x(b))\\n        >>> symbols(r'x(:1\\\\,:2)')  # or r'x((:1)\\\\,(:2))'\\n        (x(0,0), x(0,1))\\n\\n    All newly created symbols have assumptions set according to ``args``::\\n\\n        >>> a = symbols('a', integer=True)\\n        >>> a.is_integer\\n        True\\n\\n        >>> x, y, z = symbols('x,y,z', real=True)\\n        >>> x.is_real and y.is_real and z.is_real\\n        True\\n\\n    Despite its name, :func:`symbols` can create symbol-like objects like\\n    instances of Function or Wild classes. To achieve this, set ``cls``\\n    keyword argument to the desired type::\\n\\n        >>> symbols('f,g,h', cls=Function)\\n        (f, g, h)\\n\\n        >>> type(_[0])\\n        <class 'sympy.core.function.UndefinedFunction'>\\n\\n    \""
      ]
     },
     "execution_count": 8,
     "metadata": {},
     "output_type": "execute_result"
    }
   ],
   "source": [
    "\n",
    "ylabel('y')\n",
    "title('title')\n",
    "show()\n",
    "\n",
    "from sympy import *\n",
    "symbols.__doc__\n"
   ]
  },
  {
   "cell_type": "code",
   "execution_count": null,
   "metadata": {},
   "outputs": [],
   "source": []
  }
 ],
 "metadata": {
  "kernelspec": {
   "display_name": "Python 2",
   "language": "python",
   "name": "python2"
  },
  "language_info": {
   "codemirror_mode": {
    "name": "ipython",
    "version": 2
   },
   "file_extension": ".py",
   "mimetype": "text/x-python",
   "name": "python",
   "nbconvert_exporter": "python",
   "pygments_lexer": "ipython2",
   "version": "2.7.6"
  }
 },
 "nbformat": 4,
 "nbformat_minor": 0
}
